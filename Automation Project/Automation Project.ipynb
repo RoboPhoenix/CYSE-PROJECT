{
 "cells": [
  {
   "cell_type": "code",
   "execution_count": null,
   "metadata": {},
   "outputs": [
    {
     "name": "stdout",
     "output_type": "stream",
     "text": [
      "CPU Usage: 1.6%\n",
      "Memory Usage: 91.7%\n",
      "Starting Nmap 7.95 ( https://nmap.org ) at 2024-12-09 17:49 Eastern Standard Time\n",
      "Nmap scan report for localhost (127.0.0.1)\n",
      "Host is up (0.000014s latency).\n",
      "Not shown: 997 closed tcp ports (reset)\n",
      "PORT     STATE SERVICE       VERSION\n",
      "135/tcp  open  msrpc         Microsoft Windows RPC\n",
      "445/tcp  open  microsoft-ds?\n",
      "9009/tcp open  zmtp          ZeroMQ ZMTP 2.0\n",
      "Service Info: OS: Windows; CPE: cpe:/o:microsoft:windows\n",
      "\n",
      "Service detection performed. Please report any incorrect results at https://nmap.org/submit/ .\n",
      "Nmap done: 1 IP address (1 host up) scanned in 12.80 seconds\n",
      "\n"
     ]
    },
    {
     "ename": "ModuleNotFoundError",
     "evalue": "No module named 'scapy'",
     "output_type": "error",
     "traceback": [
      "\u001b[1;31m---------------------------------------------------------------------------\u001b[0m",
      "\u001b[1;31mModuleNotFoundError\u001b[0m                       Traceback (most recent call last)",
      "Cell \u001b[1;32mIn[4], line 44\u001b[0m\n\u001b[0;32m     40\u001b[0m     \u001b[38;5;28mprint\u001b[39m(result\u001b[38;5;241m.\u001b[39mstdout)\n\u001b[0;32m     42\u001b[0m run_nmap(\u001b[38;5;124m'\u001b[39m\u001b[38;5;124m127.0.0.1\u001b[39m\u001b[38;5;124m'\u001b[39m)\n\u001b[1;32m---> 44\u001b[0m \u001b[38;5;28;01mfrom\u001b[39;00m \u001b[38;5;21;01mscapy\u001b[39;00m\u001b[38;5;21;01m.\u001b[39;00m\u001b[38;5;21;01mall\u001b[39;00m \u001b[38;5;28;01mimport\u001b[39;00m \u001b[38;5;241m*\u001b[39m\n\u001b[0;32m     46\u001b[0m \u001b[38;5;28;01mdef\u001b[39;00m \u001b[38;5;21mmonitor_packets\u001b[39m(pkt):\n\u001b[0;32m     47\u001b[0m     \u001b[38;5;28;01mif\u001b[39;00m pkt\u001b[38;5;241m.\u001b[39mhaslayer(TCP) \u001b[38;5;129;01mand\u001b[39;00m pkt\u001b[38;5;241m.\u001b[39mhaslayer(IP):\n",
      "\u001b[1;31mModuleNotFoundError\u001b[0m: No module named 'scapy'"
     ]
    }
   ],
   "source": [
    "\n",
    "log_file_path = 'Linux_2k.log'\n",
    "with open(log_file_path, 'r') as file:\n",
    "    logs = file.readlines()\n",
    "\n",
    "\n",
    "\n",
    "\n",
    "suspicious_logs = [log for log in logs if 'failed' in log.lower() or 'unauthorized' in log.lower()]\n",
    "with open('summary_report.txt', 'w') as f:\n",
    "    f.write(f'Total suspicous logs foun: {len(suspicious_logs)}/n')\n",
    "    for log in suspicious_logs:\n",
    "        f.write(log + '/n')\n",
    "\n",
    "import psutil\n",
    "\n",
    "\n",
    "cpu_usage = psutil.cpu_percent(interval=1)\n",
    "print(f'CPU Usage: {cpu_usage}%')\n",
    "\n",
    "\n",
    "memory_info = psutil.virtual_memory()\n",
    "print(f\"Memory Usage: {memory_info.percent}%\")\n",
    "\n",
    "with open('performance_log.txt', 'a') as f:\n",
    "    f.write(f\"CPU: {cpu_usage}%, Memory: {memory_info.percent}%\\n\")\n",
    "\n",
    "if cpu_usage > 2:\n",
    "    print(\"ALERT: High CPU usage detected!\")\n",
    "\n",
    "\n",
    "if cpu_usage > 2:\n",
    "    subject = ('High CPU Usage Alert')\n",
    "    body = (f' Warning: CPU usage is high at {cpu_usage}%. Memory usage is {memory_info}%.')\n",
    "\n",
    "\n",
    "\n",
    "import subprocess\n",
    "def run_nmap(target):\n",
    "    result = subprocess.run(['nmap', '-sV', target], capture_output=True, text=True)\n",
    "    print(result.stdout)\n",
    "    \n",
    "run_nmap('127.0.0.1')\n",
    "\n",
    "from scapy.all import *\n",
    "\n",
    "def monitor_packets(pkt):\n",
    "    if pkt.haslayer(TCP) and pkt.haslayer(IP):\n",
    "        print(f\"Source IP: {pkt[IP].src}, Destination IP: {pkt[IP].dst}\")\n",
    "\n",
    "sniff(prn=monitor_packets, count=10)  \n",
    "\n",
    "\n",
    "\n",
    "\n",
    "\n",
    "\n",
    "\n"
   ]
  },
  {
   "cell_type": "code",
   "execution_count": null,
   "metadata": {},
   "outputs": [],
   "source": []
  }
 ],
 "metadata": {
  "kernelspec": {
   "display_name": "Python 3",
   "language": "python",
   "name": "python3"
  },
  "language_info": {
   "codemirror_mode": {
    "name": "ipython",
    "version": 3
   },
   "file_extension": ".py",
   "mimetype": "text/x-python",
   "name": "python",
   "nbconvert_exporter": "python",
   "pygments_lexer": "ipython3",
   "version": "3.12.8"
  }
 },
 "nbformat": 4,
 "nbformat_minor": 2
}
